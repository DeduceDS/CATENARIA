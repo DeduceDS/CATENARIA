{
 "cells": [
  {
   "cell_type": "markdown",
   "metadata": {},
   "source": [
    "# Propuesta de sistema de clasificación\n",
    "\n",
    "Obtenemos el error de las polilíneas (que nos han proporcionado) como la distancia cuadrática de cada polilínea a los datos."
   ]
  },
  {
   "cell_type": "code",
   "execution_count": 11,
   "metadata": {},
   "outputs": [
    {
     "name": "stdout",
     "output_type": "stream",
     "text": [
      "2.5.3\n"
     ]
    }
   ],
   "source": [
    "import numpy as np\n",
    "import matplotlib.pyplot as plt\n",
    "import pandas as pd\n",
    "import math\n",
    "\n",
    "# 3D Libs\n",
    "import open3d as o3d\n",
    "import laspy\n",
    "print(laspy.__version__)\n",
    "\n",
    "# Geospatial libs\n",
    "import rasterio\n",
    "import alphashape as ash\n",
    "import geopandas as gpd\n",
    "import shapely as sh    \n",
    "\n",
    "from rasterio.transform import from_origin\n",
    "from rasterio.enums import Resampling\n",
    "from rasterio.features import shapes\n",
    "from shapely.geometry import Polygon\n",
    "\n",
    "from sklearn.decomposition import PCA\n",
    "import matplotlib.pyplot as plt\n",
    "import numpy as np\n",
    "\n",
    "from sklearn.cluster import SpectralClustering"
   ]
  },
  {
   "cell_type": "code",
   "execution_count": 12,
   "metadata": {},
   "outputs": [],
   "source": [
    "def get_coord(points):\n",
    "    \n",
    "    x_vals = [punto[0] for punto in points]\n",
    "    y_vals = [punto[1] for punto in points]\n",
    "    z_vals = [punto[2] for punto in points]\n",
    "    \n",
    "    return np.stack(x_vals), np.stack(y_vals), np.stack(z_vals)\n",
    "\n",
    "def get_coord2(extremos_apoyos):\n",
    "    \n",
    "    x_vals = [extremos_apoyos[0][\"COORDENADA_X\"], extremos_apoyos[0][\"COORDENADA_X\"], extremos_apoyos[1][\"COORDENADA_X\"], extremos_apoyos[1][\"COORDENADA_X\"]]\n",
    "    y_vals = [extremos_apoyos[0][\"COORDEANDA_Y\"], extremos_apoyos[0][\"COORDEANDA_Y\"], extremos_apoyos[1][\"COORDEANDA_Y\"], extremos_apoyos[1][\"COORDEANDA_Y\"]]\n",
    "    z_vals = extremos_apoyos[0][\"COORDENADAS_Z\"] + extremos_apoyos[1][\"COORDENADAS_Z\"]\n",
    "\n",
    "    return np.stack(x_vals), np.stack(y_vals), np.stack(z_vals)\n",
    "\n",
    "def unravel_data_element(element):\n",
    "    \n",
    "    for key in element.keys():\n",
    "    \n",
    "        if type(element[key]) in [list, dict]:\n",
    "            \n",
    "            print(f\"\\n{key}: \")\n",
    "            \n",
    "            if type(element[key]) == list:\n",
    "            \n",
    "                element2 = element[key][0]\n",
    "                print(f\"- Length of list: {len(element[key])}\")\n",
    "                \n",
    "            else:\n",
    "                \n",
    "                element2 = element[key]\n",
    "            \n",
    "            for key2 in element2.keys():\n",
    "                \n",
    "                print(f\"    {key2}: {element2[key2]}\")\n",
    "                \n",
    "                if type(element2[key2]) == list:\n",
    "                    print(f\"    - Length of list: {len(element2[key2])}\")\n",
    "        \n",
    "        else:\n",
    "            print(f\"\\n{key}: {element[key]}\")"
   ]
  },
  {
   "cell_type": "markdown",
   "metadata": {},
   "source": [
    "Obtenemos los datos"
   ]
  },
  {
   "cell_type": "code",
   "execution_count": 13,
   "metadata": {},
   "outputs": [],
   "source": [
    "import json\n",
    "\n",
    "path = \"../data/\"\n",
    "\n",
    "with open(path+'vanos.json', 'r') as archivo:\n",
    "    data1 = json.load(archivo)\n",
    "\n",
    "with open(path+'datos1.json', 'r') as archivo:\n",
    "    data2 = json.load(archivo)\n",
    "\n",
    "with open(path+'datos2.json', 'r') as archivo:\n",
    "    data3 = json.load(archivo)"
   ]
  },
  {
   "cell_type": "markdown",
   "metadata": {},
   "source": [
    "Función de rotación"
   ]
  },
  {
   "cell_type": "code",
   "execution_count": 14,
   "metadata": {},
   "outputs": [],
   "source": [
    "def rotate_points(points, extremos_values):\n",
    "    \n",
    "    points = np.array(points).T\n",
    "\n",
    "    extremo1 = np.array(extremos_values).T[0]  # Extremo superior del primer poste\n",
    "    extremo2 = np.array(extremos_values).T[2]  # Extremo inferior del primer poste\n",
    "    \n",
    "    # Calcular la distancia en el plano XY y la dirección de la diagonal\n",
    "    distancia_xy = np.linalg.norm(extremo2[:2] - extremo1[:2])\n",
    "    direccion_diagonal = (extremo2[:2] - extremo1[:2]) / distancia_xy # Normalizada para la distancia\n",
    "    \n",
    "    # Calcular el ángulo de rotación necesario para alinear la diagonal con el eje Y\n",
    "    angulo = np.arctan2(direccion_diagonal[1], direccion_diagonal[0])\n",
    "    \n",
    "    # Ajustar el ángulo para la rotación correcta\n",
    "    angulo += np.pi / 2\n",
    "    c, s = np.cos(angulo), np.sin(angulo)\n",
    "    \n",
    "    # Crear la matriz de rotación para alinear la diagonal con el eje Y\n",
    "    matriz_rotacion = np.array([[c, s, 0],\n",
    "                                [-s, c, 0],\n",
    "                                [0, 0, 1]])\n",
    "    \n",
    "    rotated_points = matriz_rotacion.dot(points.T)\n",
    "    # print(rotated.shape)\n",
    "    \n",
    "    return matriz_rotacion, np.array(rotated_points)"
   ]
  },
  {
   "cell_type": "markdown",
   "metadata": {},
   "source": [
    "Error para la clasificación"
   ]
  },
  {
   "cell_type": "code",
   "execution_count": 15,
   "metadata": {},
   "outputs": [],
   "source": [
    "def rmse(x, y):\n",
    "    return np.sqrt(np.mean((x-y)**2))"
   ]
  },
  {
   "cell_type": "markdown",
   "metadata": {},
   "source": [
    "Función que obtiene el error de cada polilínea"
   ]
  },
  {
   "cell_type": "code",
   "execution_count": 16,
   "metadata": {},
   "outputs": [],
   "source": [
    "def error(data, vano):\n",
    "\n",
    "    puntos_conductores = data[vano]['LIDAR']['CONDUCTORES']\n",
    "    puntos_vertices = data[vano]['CONDUCTORES'][0]['VERTICES']\n",
    "    puntos_vertices2 = data[vano]['CONDUCTORES'][1]['VERTICES']\n",
    "    puntos_vertices3 = data[vano]['CONDUCTORES'][2]['VERTICES']\n",
    "    puntos_extremos = data[vano]['APOYOS']\n",
    "\n",
    "    x_vals_conductores, y_vals_conductores, z_vals_conductores = get_coord(puntos_conductores)\n",
    "    x_vals_extremos, y_vals_extremos, z_vals_extremos = get_coord2(puntos_extremos)\n",
    "    x_vert1, y_vert1, z_vert1 = get_coord(puntos_vertices)\n",
    "    x_vert2, y_vert2, z_vert2 = get_coord(puntos_vertices2)\n",
    "    x_vert3, y_vert3, z_vert3 = get_coord(puntos_vertices3)\n",
    "\n",
    "    cond_values = [x_vals_conductores, y_vals_conductores, z_vals_conductores]\n",
    "    extremos_values = [x_vals_extremos, y_vals_extremos, z_vals_extremos]\n",
    "    vert_values1 = [x_vert1, y_vert1, z_vert1]\n",
    "    vert_values2 = [x_vert2, y_vert2, z_vert2]\n",
    "    vert_values3 = [x_vert3, y_vert3, z_vert3]\n",
    "\n",
    "    mat, rotated_conds = rotate_points(cond_values, extremos_values)\n",
    "    extremos_values = mat.dot(extremos_values)\n",
    "    rotated_vertices1 = mat.dot(vert_values1)\n",
    "    rotated_vertices2 = mat.dot(vert_values2)\n",
    "    rotated_vertices3 = mat.dot(vert_values3)\n",
    "\n",
    "    X_extremos = extremos_values[0]\n",
    "    Y_extremos = extremos_values[1]\n",
    "    Z_extremos = extremos_values[2]\n",
    "\n",
    "    X_cond = rotated_conds[0]\n",
    "    Y_cond = rotated_conds[1]\n",
    "    Z_cond = rotated_conds[2]\n",
    "\n",
    "    x = []\n",
    "    y = []\n",
    "    z = []\n",
    "\n",
    "    for i in range(len(X_cond)):\n",
    "        if Y_cond[i] > np.min(Y_extremos) and Y_cond[i] < np.max(Y_extremos):\n",
    "            x.append(X_cond[i])\n",
    "            y.append(Y_cond[i])\n",
    "            z.append(Z_cond[i])\n",
    "\n",
    "    x_cond = np.array(x)\n",
    "    y_cond = np.array(y)\n",
    "    z_cond = np.array(z)\n",
    "\n",
    "    [X, y] = [x_cond.reshape(-1, 1), y_cond.reshape(-1, 1)]\n",
    "\n",
    "    model = SpectralClustering(n_clusters=3, affinity='nearest_neighbors', random_state=0)\n",
    "\n",
    "    y_spectral = model.fit_predict(X)\n",
    "\n",
    "    x1, x2, x3 = [], [], []\n",
    "    y1, y2, y3 = [], [], []\n",
    "    z1, z2, z3 = [], [], []\n",
    "\n",
    "    for i in range(0, len(y_spectral)):\n",
    "        if y_spectral[i] == 0:\n",
    "            x1.append(X[i])\n",
    "            y1.append(y[i])\n",
    "            z1.append(z[i])\n",
    "        if y_spectral[i] == 1:\n",
    "            x2.append(X[i])\n",
    "            y2.append(y[i])\n",
    "            z2.append(z[i])\n",
    "        if y_spectral[i] == 2:\n",
    "            x3.append(X[i])\n",
    "            y3.append(y[i])\n",
    "            z3.append(z[i])\n",
    "\n",
    "    x1, x2, x3 = np.array(x1), np.array(x2), np.array(x3)\n",
    "    y1, y2, y3 = np.array(y1), np.array(y2), np.array(y3)\n",
    "    z1, z2, z3 = np.array(z1), np.array(z2), np.array(z3)\n",
    "\n",
    "    print(f\"Errores de las polilíneas del vano: {vano}\")\n",
    "    # print(np.sqrt(rmse(x1, rotated_vertices1[0])**2+rmse(y1, rotated_vertices1[1])**2+rmse(z1, rotated_vertices1[2])**2))\n",
    "    # print(np.sqrt(rmse(x2, rotated_vertices2[0])**2+rmse(y2, rotated_vertices2[1])**2+rmse(z2, rotated_vertices2[2])**2))\n",
    "    # print(np.sqrt(rmse(x3, rotated_vertices3[0])**2+rmse(y3, rotated_vertices3[1])**2+rmse(z3, rotated_vertices3[2])**2))\n",
    "    print(rmse(x1, rotated_vertices1[0]), rmse(y1, rotated_vertices1[1]))\n",
    "    print(rmse(x2, rotated_vertices2[0]), rmse(y2, rotated_vertices2[1]))\n",
    "    print(rmse(x3, rotated_vertices3[0]), rmse(y3, rotated_vertices3[1]))"
   ]
  },
  {
   "cell_type": "markdown",
   "metadata": {},
   "source": [
    "Función para observar las polilíneas"
   ]
  },
  {
   "cell_type": "code",
   "execution_count": 17,
   "metadata": {},
   "outputs": [],
   "source": [
    "def grafica(data, vano):\n",
    "    puntos_conductores = data[vano]['LIDAR']['CONDUCTORES']\n",
    "    puntos_vertices = data[vano]['CONDUCTORES'][0]['VERTICES']\n",
    "    puntos_vertices2 = data[vano]['CONDUCTORES'][1]['VERTICES']\n",
    "    puntos_vertices3 = data[vano]['CONDUCTORES'][2]['VERTICES']\n",
    "    puntos_extremos = data[vano]['APOYOS']\n",
    "\n",
    "    x_vals_conductores, y_vals_conductores, z_vals_conductores = get_coord(puntos_conductores)\n",
    "    x_vals_extremos, y_vals_extremos, z_vals_extremos = get_coord2(puntos_extremos)\n",
    "    x_vert1, y_vert1, z_vert1 = get_coord(puntos_vertices)\n",
    "    x_vert2, y_vert2, z_vert2 = get_coord(puntos_vertices2)\n",
    "    x_vert3, y_vert3, z_vert3 = get_coord(puntos_vertices3)\n",
    "\n",
    "    cond_values = [x_vals_conductores, y_vals_conductores, z_vals_conductores]\n",
    "    extremos_values = [x_vals_extremos, y_vals_extremos, z_vals_extremos]\n",
    "    vert_values1 = [x_vert1, y_vert1, z_vert1]\n",
    "    vert_values2 = [x_vert2, y_vert2, z_vert2]\n",
    "    vert_values3 = [x_vert3, y_vert3, z_vert3]\n",
    "\n",
    "    # Rotamos los puntos pare ver el perfil del vano\n",
    "    mat, rotated_conds = rotate_points(cond_values, extremos_values)\n",
    "    extremos_values = mat.dot(extremos_values)\n",
    "    rotated_vertices1 = mat.dot(vert_values1)\n",
    "    rotated_vertices2 = mat.dot(vert_values2)\n",
    "    rotated_vertices3 = mat.dot(vert_values3)\n",
    "\n",
    "    X_extremos = extremos_values[0]\n",
    "    Y_extremos = extremos_values[1]\n",
    "    Z_extremos = extremos_values[2]\n",
    "\n",
    "    X_cond = rotated_conds[0]\n",
    "    Y_cond = rotated_conds[1]\n",
    "    Z_cond = rotated_conds[2]\n",
    "\n",
    "    # Filtramos los puntos que estén entre los extremos\n",
    "    x = []\n",
    "    y = []\n",
    "    z = []\n",
    "\n",
    "    for i in range(len(X_cond)):\n",
    "        if Y_cond[i] > np.min(Y_extremos) and Y_cond[i] < np.max(Y_extremos):\n",
    "            x.append(X_cond[i])\n",
    "            y.append(Y_cond[i])\n",
    "            z.append(Z_cond[i])\n",
    "\n",
    "    x = np.array(x)\n",
    "    y = np.array(y)\n",
    "    z = np.array(z)\n",
    "\n",
    "    data_2d_cond = np.column_stack((y, z))\n",
    "\n",
    "    pca = PCA(n_components=2)\n",
    "    data_2d_pca_cond = pca.fit_transform(data_2d_cond)\n",
    "\n",
    "    y_min_cond, y_max_cond = data_2d_pca_cond[:, 1].min(), data_2d_pca_cond[:,1].max()\n",
    "\n",
    "    f_ind = (data_2d_pca_cond[:,1] > y_min_cond) & (data_2d_pca_cond[:,1] < y_max_cond)\n",
    "    x_filt_cond, y_filt_cond, z_filt_cond = x[f_ind], y[f_ind], z[f_ind]\n",
    "\n",
    "    # Función de la catenaria\n",
    "    from sklearn.preprocessing import StandardScaler\n",
    "    from scipy.optimize import curve_fit\n",
    "    def catenaria(x, a, h, k):\n",
    "        return a*np.cosh((x-h)/a)+k\n",
    "\n",
    "    y_vals = y_filt_cond.reshape(-1, 1)\n",
    "    z_vals = z_filt_cond.reshape(-1, 1)\n",
    "\n",
    "    scaler_y = StandardScaler()\n",
    "    scaler_z = StandardScaler()\n",
    "\n",
    "    y_vals_scaled = scaler_y.fit_transform(y_vals).flatten()\n",
    "    z_vals_scaled = scaler_z.fit_transform(z_vals).flatten()\n",
    "\n",
    "    p0 = [1, 0, 0]\n",
    "\n",
    "    parametros, _ = curve_fit(catenaria, y_vals_scaled.flatten(), z_vals_scaled)\n",
    "\n",
    "    # Ajuste de los puntos de los datos a una catenaria\n",
    "    fitted_z_vals_scaled = catenaria(y_vals_scaled.flatten(), *parametros)\n",
    "    fitted_z_vals = scaler_z.inverse_transform(fitted_z_vals_scaled.reshape(-1, 1)).flatten()\n",
    "\n",
    "    plt.figure(figsize=(10, 6))\n",
    "    # plt.scatter(y, z, label='Datos', s=30)\n",
    "    plt.scatter(x, y, label='Datos', s=30)\n",
    "    # plt.scatter(scaler_y.inverse_transform(y_vals_scaled.reshape(-1, 1)).flatten(), fitted_z_vals, color='red', label='Ajuste', s=5)\n",
    "\n",
    "    # Polilínea que nos proporcionan con los datos\n",
    "    plt.plot(rotated_vertices1[0], rotated_vertices1[1], \"-o\", color='green', label='Polilínea_datos')\n",
    "    plt.plot(rotated_vertices2[0], rotated_vertices2[1], \"-o\", color='green')\n",
    "    plt.plot(rotated_vertices3[0], rotated_vertices3[1], \"-o\", color='green')\n",
    "\n",
    "    # Interpolación de la polilínea\n",
    "    minimo = np.min(scaler_y.inverse_transform(y_vals_scaled.reshape(-1, 1)).flatten())\n",
    "    maximo = np.max(scaler_y.inverse_transform(y_vals_scaled.reshape(-1, 1)).flatten())\n",
    "    x_pol = np.linspace(minimo, maximo, 1000)\n",
    "\n",
    "    scaler_x = StandardScaler()\n",
    "\n",
    "    x_scaled = scaler_x.fit_transform(x_pol.reshape(-1, 1)).flatten()\n",
    "\n",
    "    fitted_y_scaled = catenaria(x_scaled.flatten(), *parametros)\n",
    "    fitted_y = scaler_z.inverse_transform(fitted_y_scaled.reshape(-1, 1)).flatten()\n",
    "\n",
    "    y2 = np.interp(x_pol, scaler_y.inverse_transform(y_vals_scaled.reshape(-1, 1)).flatten(), fitted_z_vals, period=len(fitted_z_vals))\n",
    "\n",
    "    # plt.plot(x_pol, y2, color='black', label='Polilínea')\n",
    "\n",
    "    plt.legend()\n",
    "    plt.title(vano)"
   ]
  },
  {
   "cell_type": "markdown",
   "metadata": {},
   "source": [
    "Obtenemos los errores de cada vano"
   ]
  },
  {
   "cell_type": "code",
   "execution_count": 18,
   "metadata": {},
   "outputs": [
    {
     "name": "stdout",
     "output_type": "stream",
     "text": [
      "Errores de las polilíneas del vano: 0\n",
      "0.224662566450249 17.500092189135145\n",
      "0.45444912693623674 18.112205987673565\n",
      "0.19911906256594042 14.063167244776805\n"
     ]
    },
    {
     "name": "stderr",
     "output_type": "stream",
     "text": [
      "/home/paula-ubuntu/.asdf/installs/python/3.10.13/lib/python3.10/site-packages/sklearn/manifold/_spectral_embedding.py:273: UserWarning: Graph is not fully connected, spectral embedding may not work as expected.\n",
      "  warnings.warn(\n"
     ]
    },
    {
     "name": "stdout",
     "output_type": "stream",
     "text": [
      "Errores de las polilíneas del vano: 1\n",
      "0.9780835191874704 32.912683867118155\n",
      "2.404719965478737 33.729889285526376\n",
      "0.6556405978005022 33.4841721062586\n"
     ]
    },
    {
     "name": "stderr",
     "output_type": "stream",
     "text": [
      "/home/paula-ubuntu/.asdf/installs/python/3.10.13/lib/python3.10/site-packages/sklearn/manifold/_spectral_embedding.py:273: UserWarning: Graph is not fully connected, spectral embedding may not work as expected.\n",
      "  warnings.warn(\n"
     ]
    },
    {
     "name": "stdout",
     "output_type": "stream",
     "text": [
      "Errores de las polilíneas del vano: 2\n",
      "0.37257501319414593 21.98719223455393\n",
      "0.8589787939727077 23.62180367356227\n",
      "0.9707508037667418 22.993208177125414\n",
      "Errores de las polilíneas del vano: 3\n",
      "0.3251550042446137 38.53677192995631\n",
      "0.03726756429672582 36.92391426863588\n",
      "0.3450073509097988 40.3248778465898\n"
     ]
    },
    {
     "name": "stderr",
     "output_type": "stream",
     "text": [
      "/home/paula-ubuntu/.asdf/installs/python/3.10.13/lib/python3.10/site-packages/sklearn/manifold/_spectral_embedding.py:273: UserWarning: Graph is not fully connected, spectral embedding may not work as expected.\n",
      "  warnings.warn(\n"
     ]
    },
    {
     "name": "stdout",
     "output_type": "stream",
     "text": [
      "Errores de las polilíneas del vano: 4\n",
      "0.04628527822793825 30.838899319537365\n",
      "1.5644650652883398 32.12823023461137\n",
      "0.30837858429724363 31.8088866809732\n",
      "Errores de las polilíneas del vano: 5\n",
      "1.767699353004308 29.799747756979652\n",
      "0.9525014416394025 32.56325338063633\n",
      "0.9634053311442325 28.643621478035772\n",
      "Errores de las polilíneas del vano: 6\n",
      "2.2453436061939094 32.256226602070974\n",
      "1.4090871284359752 32.62266067848273\n",
      "1.1605151039846489 28.295441221788835\n"
     ]
    },
    {
     "name": "stderr",
     "output_type": "stream",
     "text": [
      "/home/paula-ubuntu/.asdf/installs/python/3.10.13/lib/python3.10/site-packages/sklearn/manifold/_spectral_embedding.py:273: UserWarning: Graph is not fully connected, spectral embedding may not work as expected.\n",
      "  warnings.warn(\n"
     ]
    },
    {
     "name": "stdout",
     "output_type": "stream",
     "text": [
      "Errores de las polilíneas del vano: 7\n",
      "0.5969714042198149 35.36134295983375\n",
      "1.2703487453610223 33.469031893817906\n",
      "1.3565357338981638 31.61181999616925\n"
     ]
    },
    {
     "name": "stderr",
     "output_type": "stream",
     "text": [
      "/home/paula-ubuntu/.asdf/installs/python/3.10.13/lib/python3.10/site-packages/sklearn/manifold/_spectral_embedding.py:273: UserWarning: Graph is not fully connected, spectral embedding may not work as expected.\n",
      "  warnings.warn(\n"
     ]
    },
    {
     "name": "stdout",
     "output_type": "stream",
     "text": [
      "Errores de las polilíneas del vano: 8\n",
      "2.3874634630852016 31.89029172418973\n",
      "2.531618342780774 30.765731253839633\n",
      "0.1589175057459207 32.77038175379841\n",
      "Errores de las polilíneas del vano: 9\n",
      "2.897496252987101 36.02347556487845\n",
      "1.5634739559795983 27.632337917055356\n",
      "2.2230704262575722 30.875832878671428\n",
      "Errores de las polilíneas del vano: 10\n",
      "2.501133161417691 23.427749457526865\n",
      "0.576745092086039 24.36789945313381\n",
      "2.5003930070860396 23.26067794178648\n"
     ]
    },
    {
     "name": "stderr",
     "output_type": "stream",
     "text": [
      "/home/paula-ubuntu/.asdf/installs/python/3.10.13/lib/python3.10/site-packages/sklearn/manifold/_spectral_embedding.py:273: UserWarning: Graph is not fully connected, spectral embedding may not work as expected.\n",
      "  warnings.warn(\n"
     ]
    },
    {
     "name": "stdout",
     "output_type": "stream",
     "text": [
      "Errores de las polilíneas del vano: 11\n",
      "1.223415603179863 40.95101430783412\n",
      "1.3429407019231412 39.677837987762416\n",
      "0.4507001945214859 42.90127815553942\n"
     ]
    },
    {
     "name": "stderr",
     "output_type": "stream",
     "text": [
      "/home/paula-ubuntu/.asdf/installs/python/3.10.13/lib/python3.10/site-packages/sklearn/manifold/_spectral_embedding.py:273: UserWarning: Graph is not fully connected, spectral embedding may not work as expected.\n",
      "  warnings.warn(\n"
     ]
    },
    {
     "name": "stdout",
     "output_type": "stream",
     "text": [
      "Errores de las polilíneas del vano: 12\n",
      "2.3889067923769747 12.389037373386786\n",
      "0.34070409654177813 19.64777789824571\n",
      "0.8894273180146581 15.229618973378585\n"
     ]
    },
    {
     "name": "stderr",
     "output_type": "stream",
     "text": [
      "/home/paula-ubuntu/.asdf/installs/python/3.10.13/lib/python3.10/site-packages/sklearn/manifold/_spectral_embedding.py:273: UserWarning: Graph is not fully connected, spectral embedding may not work as expected.\n",
      "  warnings.warn(\n"
     ]
    },
    {
     "name": "stdout",
     "output_type": "stream",
     "text": [
      "Errores de las polilíneas del vano: 13\n",
      "1.3310628734606937 44.5423715525855\n",
      "2.6338438496956584 43.12253923003288\n",
      "1.4278962765702121 47.508046925970895\n"
     ]
    },
    {
     "name": "stderr",
     "output_type": "stream",
     "text": [
      "/home/paula-ubuntu/.asdf/installs/python/3.10.13/lib/python3.10/site-packages/sklearn/manifold/_spectral_embedding.py:273: UserWarning: Graph is not fully connected, spectral embedding may not work as expected.\n",
      "  warnings.warn(\n"
     ]
    },
    {
     "name": "stdout",
     "output_type": "stream",
     "text": [
      "Errores de las polilíneas del vano: 14\n",
      "0.3219967510840881 25.383893742326286\n",
      "0.06190755101262022 26.63388937438327\n",
      "0.5422639916328452 30.397340174161883\n",
      "Errores de las polilíneas del vano: 15\n",
      "0.9611031155377108 34.78169917253818\n",
      "1.4856663680749085 35.94865307296008\n",
      "1.1593177963038004 35.35660999557792\n"
     ]
    },
    {
     "name": "stderr",
     "output_type": "stream",
     "text": [
      "/home/paula-ubuntu/.asdf/installs/python/3.10.13/lib/python3.10/site-packages/sklearn/manifold/_spectral_embedding.py:273: UserWarning: Graph is not fully connected, spectral embedding may not work as expected.\n",
      "  warnings.warn(\n"
     ]
    },
    {
     "name": "stdout",
     "output_type": "stream",
     "text": [
      "Errores de las polilíneas del vano: 16\n",
      "1.5000613234016034 32.487344152675625\n",
      "0.5780125802535353 32.882878778803295\n",
      "1.8469337840737359 33.2386170388424\n"
     ]
    },
    {
     "name": "stderr",
     "output_type": "stream",
     "text": [
      "/home/paula-ubuntu/.asdf/installs/python/3.10.13/lib/python3.10/site-packages/sklearn/manifold/_spectral_embedding.py:273: UserWarning: Graph is not fully connected, spectral embedding may not work as expected.\n",
      "  warnings.warn(\n"
     ]
    },
    {
     "name": "stdout",
     "output_type": "stream",
     "text": [
      "Errores de las polilíneas del vano: 17\n",
      "0.040282597084714364 18.148785364603754\n",
      "1.1192514513512253 19.270777265895525\n",
      "2.9905003175855143 20.465412913432466\n"
     ]
    },
    {
     "name": "stderr",
     "output_type": "stream",
     "text": [
      "/home/paula-ubuntu/.asdf/installs/python/3.10.13/lib/python3.10/site-packages/sklearn/manifold/_spectral_embedding.py:273: UserWarning: Graph is not fully connected, spectral embedding may not work as expected.\n",
      "  warnings.warn(\n"
     ]
    },
    {
     "name": "stdout",
     "output_type": "stream",
     "text": [
      "Errores de las polilíneas del vano: 18\n",
      "1.2706493522794096 32.4411336108123\n",
      "1.270885261824709 31.854643334497112\n",
      "2.639589061940925 31.14686355990721\n",
      "Errores de las polilíneas del vano: 19\n",
      "2.554327927734459 28.901822554214565\n",
      "0.8661630527664299 25.51065189361937\n",
      "0.7599336123343691 24.39115877174566\n",
      "Errores de las polilíneas del vano: 20\n",
      "1.8947638322913212 21.08102818538678\n",
      "1.5023054822775148 26.544786470027045\n",
      "0.22065944554659098 24.690009689083105\n"
     ]
    },
    {
     "name": "stderr",
     "output_type": "stream",
     "text": [
      "/home/paula-ubuntu/.asdf/installs/python/3.10.13/lib/python3.10/site-packages/sklearn/manifold/_spectral_embedding.py:273: UserWarning: Graph is not fully connected, spectral embedding may not work as expected.\n",
      "  warnings.warn(\n"
     ]
    },
    {
     "name": "stdout",
     "output_type": "stream",
     "text": [
      "Errores de las polilíneas del vano: 21\n",
      "1.762043427664351 39.37400158554131\n",
      "1.7257357257481911 38.10063540406504\n",
      "0.28261776069809313 35.416198494159936\n"
     ]
    },
    {
     "name": "stderr",
     "output_type": "stream",
     "text": [
      "/home/paula-ubuntu/.asdf/installs/python/3.10.13/lib/python3.10/site-packages/sklearn/manifold/_spectral_embedding.py:273: UserWarning: Graph is not fully connected, spectral embedding may not work as expected.\n",
      "  warnings.warn(\n"
     ]
    },
    {
     "name": "stdout",
     "output_type": "stream",
     "text": [
      "Errores de las polilíneas del vano: 22\n",
      "0.8828756497717949 30.769333596691386\n",
      "0.66698430501917 44.02317187171442\n",
      "0.8310950105441638 40.96879784236647\n",
      "Errores de las polilíneas del vano: 23\n",
      "0.8590789843404497 34.52622632663209\n",
      "0.8625913427894176 31.753268891759443\n",
      "0.27157514916916137 34.01325517152615\n",
      "Errores de las polilíneas del vano: 24\n",
      "1.6416843375401955 17.61378157562157\n",
      "1.815458882730973 7.774709938123033\n",
      "0.4787542595728718 10.949591415139572\n"
     ]
    }
   ],
   "source": [
    "for i in range(0, len(data1)):\n",
    "    error(data1, i)"
   ]
  }
 ],
 "metadata": {
  "kernelspec": {
   "display_name": "Python 3",
   "language": "python",
   "name": "python3"
  },
  "language_info": {
   "codemirror_mode": {
    "name": "ipython",
    "version": 3
   },
   "file_extension": ".py",
   "mimetype": "text/x-python",
   "name": "python",
   "nbconvert_exporter": "python",
   "pygments_lexer": "ipython3",
   "version": "3.10.13"
  }
 },
 "nbformat": 4,
 "nbformat_minor": 2
}
