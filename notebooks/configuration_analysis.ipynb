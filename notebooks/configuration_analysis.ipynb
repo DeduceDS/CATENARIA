{
 "cells": [
  {
   "cell_type": "code",
   "execution_count": 1,
   "metadata": {},
   "outputs": [
    {
     "name": "stdout",
     "output_type": "stream",
     "text": [
      "Jupyter environment detected. Enabling Open3D WebVisualizer.\n",
      "[Open3D INFO] WebRTC GUI backend enabled.\n",
      "[Open3D INFO] WebRTCWindowSystem: HTTP handshake server disabled.\n"
     ]
    }
   ],
   "source": [
    "from modules_clustering import *\n",
    "from modules_preprocess import *\n",
    "from modules_utils import *\n",
    "from modules_main2 import *\n",
    "from modules_plots import *\n",
    "from modules_fits import *"
   ]
  },
  {
   "cell_type": "code",
   "execution_count": 2,
   "metadata": {},
   "outputs": [],
   "source": [
    "def plot_2d(rotated_conds, rotated_extremos, rotated_apoyos):\n",
    "\n",
    "    plt.figure(figsize=(12,6))\n",
    "\n",
    "    plt.subplot(121)\n",
    "    plt.scatter(rotated_conds[1], rotated_conds[2], s = 1, label = \"Original Conductors\")\n",
    "    plt.scatter(rotated_apoyos[1], rotated_apoyos[2], s = 1, label = \"Cropped Conductors\")\n",
    "\n",
    "    plt.scatter(rotated_extremos[1], rotated_extremos[2], color='black')\n",
    "    plt.title(\"YZ\")\n",
    "\n",
    "    plt.subplot(122)\n",
    "    plt.scatter(rotated_conds[0], rotated_conds[1], s = 1, label = \"Original Conductors\")\n",
    "    plt.scatter(rotated_apoyos[0], rotated_apoyos[1], s = 1, label = \"Cropped Conductors\")\n",
    "\n",
    "    plt.scatter(rotated_extremos[0], rotated_extremos[1], color='black')\n",
    "    plt.title(\"XY\")\n",
    "\n",
    "    plt.show()"
   ]
  },
  {
   "cell_type": "code",
   "execution_count": 3,
   "metadata": {},
   "outputs": [
    {
     "name": "stdout",
     "output_type": "stream",
     "text": [
      "129 ['C_13434448_13434449', 'C_13411888_13411891', 'C_13411767_13411770', 'C_13411767_13411776', 'C_13411775_13411776', 'C_13411824_13411828', 'C_13412064_13412065', 'C_13412051_13412064', 'C_13412143_13412144', 'C_13412141_13412144', 'C_13412101_13412104', 'C_13412104_13412105']\n"
     ]
    }
   ],
   "source": [
    "pathdata0 = os.getcwd()+\"/../data/lineas_completas/VDI711.json\"\n",
    "\n",
    "bad_ids0 = get_bad_ids(pathdata0.split(\"json\")[0]+\"txt\")\n",
    "\n",
    "with open(pathdata0, 'r') as archivo:\n",
    "    data = json.load(archivo)\n",
    "    \n",
    "print(len(data), bad_ids0)"
   ]
  },
  {
   "cell_type": "code",
   "execution_count": 7,
   "metadata": {},
   "outputs": [
    {
     "name": "stderr",
     "output_type": "stream",
     "text": [
      "\u001b[32m2024-07-15 13:03:51.497\u001b[0m | \u001b[33m\u001b[1mWARNING \u001b[0m | \u001b[36mmodules_main2\u001b[0m:\u001b[36manalyze_backings\u001b[0m:\u001b[36m18\u001b[0m - \u001b[33m\u001b[1mRedefining backings\u001b[0m\n",
      "\u001b[32m2024-07-15 13:03:51.499\u001b[0m | \u001b[34m\u001b[1mDEBUG   \u001b[0m | \u001b[36mmodules_preprocess\u001b[0m:\u001b[36mdefine_backings\u001b[0m:\u001b[36m587\u001b[0m - \u001b[34m\u001b[1mDistance between mean points: 185.0824125467761\u001b[0m\n",
      "\u001b[32m2024-07-15 13:03:51.500\u001b[0m | \u001b[34m\u001b[1mDEBUG   \u001b[0m | \u001b[36mmodules_main2\u001b[0m:\u001b[36manalyze_backings\u001b[0m:\u001b[36m25\u001b[0m - \u001b[34m\u001b[1mSecond time 0.0027306079864501953\u001b[0m\n",
      "\u001b[32m2024-07-15 13:03:51.509\u001b[0m | \u001b[33m\u001b[1mWARNING \u001b[0m | \u001b[36mmodules_main2\u001b[0m:\u001b[36manalyze_backings\u001b[0m:\u001b[36m18\u001b[0m - \u001b[33m\u001b[1mRedefining backings\u001b[0m\n",
      "\u001b[32m2024-07-15 13:03:51.510\u001b[0m | \u001b[34m\u001b[1mDEBUG   \u001b[0m | \u001b[36mmodules_preprocess\u001b[0m:\u001b[36mdefine_backings\u001b[0m:\u001b[36m587\u001b[0m - \u001b[34m\u001b[1mDistance between mean points: 121.12366531382452\u001b[0m\n",
      "\u001b[32m2024-07-15 13:03:51.511\u001b[0m | \u001b[34m\u001b[1mDEBUG   \u001b[0m | \u001b[36mmodules_main2\u001b[0m:\u001b[36manalyze_backings\u001b[0m:\u001b[36m25\u001b[0m - \u001b[34m\u001b[1mSecond time 0.0018239021301269531\u001b[0m\n",
      "\u001b[32m2024-07-15 13:03:51.521\u001b[0m | \u001b[33m\u001b[1mWARNING \u001b[0m | \u001b[36mmodules_main2\u001b[0m:\u001b[36manalyze_backings\u001b[0m:\u001b[36m18\u001b[0m - \u001b[33m\u001b[1mRedefining backings\u001b[0m\n",
      "\u001b[32m2024-07-15 13:03:51.523\u001b[0m | \u001b[34m\u001b[1mDEBUG   \u001b[0m | \u001b[36mmodules_preprocess\u001b[0m:\u001b[36mdefine_backings\u001b[0m:\u001b[36m587\u001b[0m - \u001b[34m\u001b[1mDistance between mean points: 97.82264920921035\u001b[0m\n",
      "\u001b[32m2024-07-15 13:03:51.523\u001b[0m | \u001b[34m\u001b[1mDEBUG   \u001b[0m | \u001b[36mmodules_main2\u001b[0m:\u001b[36manalyze_backings\u001b[0m:\u001b[36m25\u001b[0m - \u001b[34m\u001b[1mSecond time 0.002605915069580078\u001b[0m\n",
      "\u001b[32m2024-07-15 13:03:51.533\u001b[0m | \u001b[33m\u001b[1mWARNING \u001b[0m | \u001b[36mmodules_main2\u001b[0m:\u001b[36manalyze_backings\u001b[0m:\u001b[36m18\u001b[0m - \u001b[33m\u001b[1mRedefining backings\u001b[0m\n",
      "\u001b[32m2024-07-15 13:03:51.535\u001b[0m | \u001b[34m\u001b[1mDEBUG   \u001b[0m | \u001b[36mmodules_preprocess\u001b[0m:\u001b[36mdefine_backings\u001b[0m:\u001b[36m587\u001b[0m - \u001b[34m\u001b[1mDistance between mean points: 111.9669990713076\u001b[0m\n",
      "\u001b[32m2024-07-15 13:03:51.535\u001b[0m | \u001b[34m\u001b[1mDEBUG   \u001b[0m | \u001b[36mmodules_main2\u001b[0m:\u001b[36manalyze_backings\u001b[0m:\u001b[36m25\u001b[0m - \u001b[34m\u001b[1mSecond time 0.0023267269134521484\u001b[0m\n",
      "\u001b[32m2024-07-15 13:03:51.543\u001b[0m | \u001b[33m\u001b[1mWARNING \u001b[0m | \u001b[36mmodules_main2\u001b[0m:\u001b[36manalyze_backings\u001b[0m:\u001b[36m18\u001b[0m - \u001b[33m\u001b[1mRedefining backings\u001b[0m\n",
      "\u001b[32m2024-07-15 13:03:51.544\u001b[0m | \u001b[34m\u001b[1mDEBUG   \u001b[0m | \u001b[36mmodules_preprocess\u001b[0m:\u001b[36mdefine_backings\u001b[0m:\u001b[36m587\u001b[0m - \u001b[34m\u001b[1mDistance between mean points: 106.5981490381721\u001b[0m\n",
      "\u001b[32m2024-07-15 13:03:51.544\u001b[0m | \u001b[34m\u001b[1mDEBUG   \u001b[0m | \u001b[36mmodules_main2\u001b[0m:\u001b[36manalyze_backings\u001b[0m:\u001b[36m25\u001b[0m - \u001b[34m\u001b[1mSecond time 0.0016791820526123047\u001b[0m\n"
     ]
    },
    {
     "name": "stdout",
     "output_type": "stream",
     "text": [
      "\n",
      "Processing Vano 0\n",
      "[array([500147.9987, 500147.9987, 499990.2981, 499990.2981]), array([4288995.3776, 4288995.3776, 4288901.9047, 4288901.9047]), array([892.6066, 906.2758, 887.0733, 896.3558])]\n",
      "[array([4288900.53309208, 4288900.53309208, 4288995.58801281,\n",
      "       4288995.58801281, 4288900.53309208, 4288900.53309208,\n",
      "       4288995.58801281, 4288995.58801281]), array([499989.2620483 , 499989.2620483 , 500147.91667342, 500147.91667342,\n",
      "       499989.2620483 , 499989.2620483 , 500147.91667342, 500147.91667342]), [894.8219835849058, 901.8056364267129, 894.8219835849058, 894.8219835849058]]\n",
      "Vano C_13411888_13411889 failed preprocess: setting an array element with a sequence. The requested array has an inhomogeneous shape after 1 dimensions. The detected shape was (3,) + inhomogeneous part.\n",
      "\n",
      "Processing Vano 1\n",
      "[array([502687.2143, 502687.2143, 502645.4172, 502645.4172]), array([4291590.922 , 4291590.922 , 4291704.2068, 4291704.2068]), array([888.2523, 899.5556, 896.914 , 911.4563])]\n",
      "[array([4291590.60020026, 4291590.60020026, 4291703.78273835,\n",
      "       4291703.78273835, 4291590.60020026, 4291590.60020026,\n",
      "       4291703.78273835, 4291703.78273835]), array([502686.85429948, 502686.85429948, 502645.13950241, 502645.13950241,\n",
      "       502686.85429948, 502686.85429948, 502645.13950241, 502645.13950241]), [894.480510492228, 905.4591750861078, 894.480510492228, 894.480510492228]]\n",
      "Vano C_13412048_13412052 failed preprocess: setting an array element with a sequence. The requested array has an inhomogeneous shape after 1 dimensions. The detected shape was (3,) + inhomogeneous part.\n",
      "\n",
      "Processing Vano 2\n",
      "[array([501580.7837, 501580.7837, 501611.5642, 501611.5642]), array([4294643.0253, 4294643.0253, 4294551.5291, 4294551.5291]), array([881.1816, 892.4399, 900.5851, 913.9667])]\n",
      "[array([4294551.411454  , 4294551.411454  , 4294642.65746821,\n",
      "       4294642.65746821, 4294551.411454  , 4294551.411454  ,\n",
      "       4294642.65746821, 4294642.65746821]), array([501611.09780354, 501611.09780354, 501580.45392947, 501580.45392947,\n",
      "       501611.09780354, 501611.09780354, 501580.45392947, 501580.45392947]), [907.0768070117956, 889.6300717874396, 907.0768070117956, 907.0768070117956]]\n",
      "Vano C_13412143_13412146 failed preprocess: setting an array element with a sequence. The requested array has an inhomogeneous shape after 1 dimensions. The detected shape was (3,) + inhomogeneous part.\n",
      "\n",
      "Processing Vano 3\n",
      "[array([501407.2557, 501407.2557, 501443.1576, 501443.1576]), array([4295156.9631, 4295156.9631, 4295051.1534, 4295051.1534]), array([849.5088, 861.0243, 857.43  , 868.7021])]\n",
      "[array([4295051.15113589, 4295051.15113589, 4295157.03790954,\n",
      "       4295157.03790954, 4295051.15113589, 4295051.15113589,\n",
      "       4295157.03790954, 4295157.03790954]), array([501442.41935125, 501442.41935125, 501406.81918746, 501406.81918746,\n",
      "       501442.41935125, 501442.41935125, 501406.81918746, 501406.81918746]), [863.5394051803886, 855.9744606837608, 863.5394051803886, 863.5394051803886]]\n",
      "Vano C_13412119_13412124 failed preprocess: setting an array element with a sequence. The requested array has an inhomogeneous shape after 1 dimensions. The detected shape was (3,) + inhomogeneous part.\n",
      "\n",
      "Processing Vano 4\n",
      "[array([501089.349 , 501089.349 , 501122.8944, 501122.8944]), array([4296098.2125, 4296098.2125, 4295997.8708, 4295997.8708]), array([823.987 , 835.6506, 834.3501, 847.7572])]\n",
      "[array([4295997.86406399, 4295997.86406399, 4296098.36027701,\n",
      "       4296098.36027701, 4295997.86406399, 4295997.86406399,\n",
      "       4296098.36027701, 4296098.36027701]), array([501122.83626444, 501122.83626444, 501089.09482504, 501089.09482504,\n",
      "       501122.83626444, 501122.83626444, 501089.09482504, 501089.09482504]), [841.4734590858417, 830.2845442519684, 841.4734590858417, 841.4734590858417]]\n",
      "Vano C_13412096_13412097 failed preprocess: setting an array element with a sequence. The requested array has an inhomogeneous shape after 1 dimensions. The detected shape was (3,) + inhomogeneous part.\n"
     ]
    }
   ],
   "source": [
    "for i in range(len(data[0:5])):\n",
    "        \n",
    "        print(f\"\\nProcessing Vano {i}\")\n",
    "        \n",
    "        vano_id = data[i]['ID_VANO']\n",
    "        \n",
    "        # if vano_id in bad_ids:\n",
    "        #     print(\"Vano skiped \", i)\n",
    "        #     continue\n",
    "        \n",
    "        try:\n",
    "            \n",
    "            idv, vano_length, cond_values, apoyo_values, vert_values, extremos_values = extract_vano_values(data, i)\n",
    "            \n",
    "            # plot_2d(cond_values, extremos_values, apoyo_values)\n",
    "            \n",
    "            print(extremos_values)\n",
    "            \n",
    "            _, extremos_values = analyze_backings(vano_length, idv, cond_values, apoyo_values, vert_values, extremos_values, dataf=None)\n",
    "            \n",
    "            print(extremos_values)\n",
    "            \n",
    "            # plot_2d(cond_values, extremos_values, apoyo_values)\n",
    "            \n",
    "            if extremos_values == -1:\n",
    "                continue\n",
    "            \n",
    "            mat, rotated_conds, rotated_apoyos, rotated_vertices, rotated_extremos = rotate_vano(cond_values, extremos_values, apoyo_values, vert_values)\n",
    "            \n",
    "            plot_2d(rotated_conds, rotated_extremos, rotated_apoyos)\n",
    "        \n",
    "            \n",
    "        except Exception as e:\n",
    "\n",
    "            print(f\"Vano {vano_id} failed preprocess: {e}\")"
   ]
  },
  {
   "cell_type": "code",
   "execution_count": null,
   "metadata": {},
   "outputs": [],
   "source": []
  },
  {
   "cell_type": "code",
   "execution_count": null,
   "metadata": {},
   "outputs": [],
   "source": []
  },
  {
   "cell_type": "code",
   "execution_count": null,
   "metadata": {},
   "outputs": [],
   "source": []
  },
  {
   "cell_type": "code",
   "execution_count": null,
   "metadata": {},
   "outputs": [],
   "source": []
  }
 ],
 "metadata": {
  "kernelspec": {
   "display_name": ".venv",
   "language": "python",
   "name": "python3"
  },
  "language_info": {
   "codemirror_mode": {
    "name": "ipython",
    "version": 3
   },
   "file_extension": ".py",
   "mimetype": "text/x-python",
   "name": "python",
   "nbconvert_exporter": "python",
   "pygments_lexer": "ipython3",
   "version": "3.10.13"
  }
 },
 "nbformat": 4,
 "nbformat_minor": 2
}
